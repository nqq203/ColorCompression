{
 "cells": [
  {
   "cell_type": "code",
   "execution_count": 25,
   "metadata": {},
   "outputs": [],
   "source": [
    "import numpy as np\n",
    "from PIL import Image\n",
    "from matplotlib import pyplot"
   ]
  },
  {
   "cell_type": "code",
   "execution_count": 26,
   "metadata": {},
   "outputs": [],
   "source": [
    "def input_image():\n",
    "    image_name = input(\"Enter the name of image (ex: img1.jpg, img2.png,... ): \")\n",
    "    try:\n",
    "        image = Image.open(image_name).convert('RGB')\n",
    "    except FileNotFoundError as err:\n",
    "        print(err)\n",
    "        return\n",
    "    \n",
    "    return image"
   ]
  },
  {
   "cell_type": "code",
   "execution_count": 27,
   "metadata": {},
   "outputs": [],
   "source": [
    "def compute_distance(img_1d, centroids, index, cluster):\n",
    "    #manhantan distance to calculate the distance\n",
    "    return np.sum(np.abs(img_1d[index] - centroids[cluster]))\n",
    "\n",
    "def assign_labels(img_1d, centroids, k_clusters):\n",
    "    labels = np.zeros(img_1d.shape[0])\n",
    "    for i in range(img_1d.shape[0]):\n",
    "        tmp = 10000000\n",
    "        for cluster in range(k_clusters):\n",
    "            dist = compute_distance(img_1d, centroids, i, cluster)\n",
    "            if (dist < tmp):\n",
    "                tmp = dist\n",
    "                labels[i] = cluster\n",
    "    return labels\n",
    "\n",
    "def update_centroids(img_1d, centroids, labels, k_clusters):\n",
    "    for cluster in range(k_clusters):\n",
    "        cluster_points = img_1d[labels == cluster]\n",
    "        if (len(cluster_points) > 0):\n",
    "            centroids[cluster] = np.mean(cluster_points, axis=0) \n",
    "    return centroids\n",
    "\n",
    "def has_converged(centroids, new_centroids):\n",
    "    return (set([tuple(a) for a in centroids]) == \n",
    "        set([tuple(a) for a in new_centroids]))\n",
    "\n",
    "def kmeans(img_1d, k_clusters, max_iter, init_centroids='random'):\n",
    "    #init centroids and labels\n",
    "    if (init_centroids == 'random'):\n",
    "        centroids = np.random.randint(0, 255, size=(k_clusters, img_1d.shape[1]))\n",
    "    elif (init_centroids == 'in_pixels'):\n",
    "        centroids = img_1d[np.random.choice(img_1d.shape[0], size=k_clusters, replace=False)]\n",
    "    \n",
    "    for _ in range(max_iter):\n",
    "        labels = assign_labels(img_1d, centroids, k_clusters)\n",
    "        new_centroids = update_centroids(img_1d, centroids, labels, k_clusters)\n",
    "        if (has_converged(centroids, new_centroids)):\n",
    "            break\n",
    "\n",
    "    return centroids, labels\n",
    "\n"
   ]
  },
  {
   "cell_type": "code",
   "execution_count": 28,
   "metadata": {},
   "outputs": [],
   "source": [
    "def handle_and_compress_image(image):\n",
    "    #convert to matrix \n",
    "    img_matrix = np.array(image)\n",
    "    heigth, width, num_channels = img_matrix.shape\n",
    "    img_1d = img_matrix.reshape((heigth * width, num_channels))\n",
    "\n",
    "    #start kmeans\n",
    "    centroids, labels = kmeans(img_1d, 7, 1000)\n",
    "\n",
    "    # getting back the 3d matrix (row, col, rgb(3))\n",
    "    centroid = np.array(centroids)\n",
    "    recovered = centroid[labels.astype(int), :]\n",
    "    recovered = recovered.reshape(img_matrix.shape)\n",
    "    \n",
    "    # plotting the compressed image.\n",
    "    format = int(input(\"Enter format to save (png: 1, pdf: 2): \"))\n",
    "    if (format == 1):\n",
    "        pyplot.imshow(recovered)\n",
    "        recovered = recovered.astype(np.uint8)\n",
    "        pyplot.imsave(\"compressed_image.png\", recovered)\n",
    "    elif (format == 2):\n",
    "        pyplot.imshow(recovered)\n",
    "        pyplot.savefig(\"compressed_image.pdf\", format=\"pdf\")\n",
    "        \n",
    "    # pyplot.imshow(recovered)\n",
    "    pyplot.show()\n",
    "\n",
    "    "
   ]
  },
  {
   "cell_type": "code",
   "execution_count": 30,
   "metadata": {},
   "outputs": [
    {
     "ename": "AttributeError",
     "evalue": "shape",
     "output_type": "error",
     "traceback": [
      "\u001b[1;31m---------------------------------------------------------------------------\u001b[0m",
      "\u001b[1;31mAttributeError\u001b[0m                            Traceback (most recent call last)",
      "Cell \u001b[1;32mIn[30], line 3\u001b[0m\n\u001b[0;32m      1\u001b[0m \u001b[39mif\u001b[39;00m \u001b[39m__name__\u001b[39m \u001b[39m==\u001b[39m \u001b[39m\"\u001b[39m\u001b[39m__main__\u001b[39m\u001b[39m\"\u001b[39m:\n\u001b[0;32m      2\u001b[0m     image \u001b[39m=\u001b[39m input_image()\n\u001b[1;32m----> 3\u001b[0m     handle_and_compress_image(image)\n",
      "Cell \u001b[1;32mIn[28], line 6\u001b[0m, in \u001b[0;36mhandle_and_compress_image\u001b[1;34m(image)\u001b[0m\n\u001b[0;32m      4\u001b[0m heigth, width, num_channels \u001b[39m=\u001b[39m img_matrix\u001b[39m.\u001b[39mshape\n\u001b[0;32m      5\u001b[0m img_1d \u001b[39m=\u001b[39m img_matrix\u001b[39m.\u001b[39mreshape((heigth \u001b[39m*\u001b[39m width, num_channels))\n\u001b[1;32m----> 6\u001b[0m unique_colors \u001b[39m=\u001b[39m np\u001b[39m.\u001b[39munique(img_matrix\u001b[39m.\u001b[39mreshape(\u001b[39m-\u001b[39m\u001b[39m1\u001b[39m, image\u001b[39m.\u001b[39;49mshape[\u001b[39m2\u001b[39m]), axis\u001b[39m=\u001b[39m\u001b[39m0\u001b[39m)\n\u001b[0;32m      7\u001b[0m num_colors \u001b[39m=\u001b[39m unique_colors\u001b[39m.\u001b[39mshape[\u001b[39m0\u001b[39m]\n\u001b[0;32m      8\u001b[0m \u001b[39mprint\u001b[39m(num_colors)\n",
      "File \u001b[1;32mc:\\Users\\quynq\\anaconda3\\lib\\site-packages\\PIL\\Image.py:529\u001b[0m, in \u001b[0;36mImage.__getattr__\u001b[1;34m(self, name)\u001b[0m\n\u001b[0;32m    527\u001b[0m     deprecate(\u001b[39m\"\u001b[39m\u001b[39mImage categories\u001b[39m\u001b[39m\"\u001b[39m, \u001b[39m10\u001b[39m, \u001b[39m\"\u001b[39m\u001b[39mis_animated\u001b[39m\u001b[39m\"\u001b[39m, plural\u001b[39m=\u001b[39m\u001b[39mTrue\u001b[39;00m)\n\u001b[0;32m    528\u001b[0m     \u001b[39mreturn\u001b[39;00m \u001b[39mself\u001b[39m\u001b[39m.\u001b[39m_category\n\u001b[1;32m--> 529\u001b[0m \u001b[39mraise\u001b[39;00m \u001b[39mAttributeError\u001b[39;00m(name)\n",
      "\u001b[1;31mAttributeError\u001b[0m: shape"
     ]
    }
   ],
   "source": [
    "if __name__ == \"__main__\":\n",
    "    image = input_image()\n",
    "    handle_and_compress_image(image)"
   ]
  }
 ],
 "metadata": {
  "kernelspec": {
   "display_name": "base",
   "language": "python",
   "name": "python3"
  },
  "language_info": {
   "codemirror_mode": {
    "name": "ipython",
    "version": 3
   },
   "file_extension": ".py",
   "mimetype": "text/x-python",
   "name": "python",
   "nbconvert_exporter": "python",
   "pygments_lexer": "ipython3",
   "version": "3.10.9"
  },
  "orig_nbformat": 4
 },
 "nbformat": 4,
 "nbformat_minor": 2
}
